{
  "nbformat": 4,
  "nbformat_minor": 0,
  "metadata": {
    "colab": {
      "name": "14119376 Muhammad Rayhan Fadillah 3KA18.ipynb",
      "provenance": [],
      "collapsed_sections": []
    },
    "kernelspec": {
      "name": "python3",
      "display_name": "Python 3"
    },
    "language_info": {
      "name": "python"
    }
  },
  "cells": [
    {
      "cell_type": "code",
      "execution_count": 1,
      "metadata": {
        "id": "niJcnYwJSbY_"
      },
      "outputs": [],
      "source": [
        "#Description: This program predicts the price of GOOG stock for a specific day "
      ]
    },
    {
      "cell_type": "code",
      "source": [
        "#Import the libraries\n",
        "from sklearn.svm import SVR\n",
        "import numpy as np\n",
        "import pandas as pd\n",
        "import matplotlib.pyplot as plt\n",
        "plt.style.use('seaborn-darkgrid')"
      ],
      "metadata": {
        "id": "ZDfRtL0yUWDM"
      },
      "execution_count": 2,
      "outputs": []
    },
    {
      "cell_type": "markdown",
      "source": [
        "impor paket /libraries untuk memudahkan penulisan program"
      ],
      "metadata": {
        "id": "Ho4MmAVWfG5C"
      }
    },
    {
      "cell_type": "code",
      "source": [
        "#Load the data\n",
        "#from google.colab import files # Use to load data on Google Colab\n",
        "#uploaded = files.upload() # Use to load data on Google Colab\n",
        "df = pd.read_csv('GOOG_30_days.csv')\n",
        "df"
      ],
      "metadata": {
        "colab": {
          "base_uri": "https://localhost:8080/",
          "height": 677
        },
        "id": "slQjnTu3UaUA",
        "outputId": "17ee562c-d18f-46e7-fa90-aa90f209462a"
      },
      "execution_count": 3,
      "outputs": [
        {
          "output_type": "execute_result",
          "data": {
            "text/plain": [
              "          Date         Open         High          Low        Close  \\\n",
              "0   2021-09-01  2913.000000  2936.409912  2912.290039  2916.840088   \n",
              "1   2021-09-02  2918.989990  2926.500000  2882.129883  2884.379883   \n",
              "2   2021-09-03  2882.919922  2907.540039  2870.100098  2895.500000   \n",
              "3   2021-09-07  2894.989990  2916.479980  2890.820068  2910.379883   \n",
              "4   2021-09-08  2907.870117  2911.020020  2884.000000  2897.669922   \n",
              "5   2021-09-09  2897.669922  2913.389893  2888.679932  2898.270020   \n",
              "6   2021-09-10  2908.870117  2920.379883  2834.830078  2838.419922   \n",
              "7   2021-09-13  2864.020020  2883.820068  2845.649902  2869.300049   \n",
              "8   2021-09-14  2883.219971  2894.550049  2858.110107  2868.120117   \n",
              "9   2021-09-15  2875.179932  2911.629883  2845.120117  2904.120117   \n",
              "10  2021-09-16  2902.419922  2904.000000  2868.326904  2887.469971   \n",
              "11  2021-09-17  2875.969971  2884.989990  2821.229980  2829.270020   \n",
              "12  2021-09-20  2780.003906  2787.250000  2741.060059  2780.340088   \n",
              "13  2021-09-21  2802.340088  2816.231934  2778.110107  2792.929932   \n",
              "14  2021-09-22  2801.010010  2831.669922  2789.435059  2818.770020   \n",
              "15  2021-09-23  2832.189941  2845.049072  2821.929932  2836.530029   \n",
              "16  2021-09-24  2818.919922  2858.070068  2817.010010  2852.659912   \n",
              "17  2021-09-27  2831.709961  2850.000000  2810.000000  2830.020020   \n",
              "18  2021-09-28  2781.770020  2792.129883  2714.000000  2723.679932   \n",
              "19  2021-09-29  2742.194092  2747.969971  2685.000000  2690.419922   \n",
              "\n",
              "      Adj Close   Volume  \n",
              "0   2916.840088   791200  \n",
              "1   2884.379883  1092200  \n",
              "2   2895.500000   955200  \n",
              "3   2910.379883   758500  \n",
              "4   2897.669922   774300  \n",
              "5   2898.270020   739900  \n",
              "6   2838.419922  1644800  \n",
              "7   2869.300049  1008800  \n",
              "8   2868.120117   945800  \n",
              "9   2904.120117  1032400  \n",
              "10  2887.469971  1014600  \n",
              "11  2829.270020  3002000  \n",
              "12  2780.340088  1745900  \n",
              "13  2792.929932   906500  \n",
              "14  2818.770020  1103400  \n",
              "15  2836.530029   863600  \n",
              "16  2852.659912   747500  \n",
              "17  2830.020020   942200  \n",
              "18  2723.679932  2109500  \n",
              "19  2690.419922  1316900  "
            ],
            "text/html": [
              "\n",
              "  <div id=\"df-c8e1e5d5-8bb5-4fa8-b64d-883fc75165a2\">\n",
              "    <div class=\"colab-df-container\">\n",
              "      <div>\n",
              "<style scoped>\n",
              "    .dataframe tbody tr th:only-of-type {\n",
              "        vertical-align: middle;\n",
              "    }\n",
              "\n",
              "    .dataframe tbody tr th {\n",
              "        vertical-align: top;\n",
              "    }\n",
              "\n",
              "    .dataframe thead th {\n",
              "        text-align: right;\n",
              "    }\n",
              "</style>\n",
              "<table border=\"1\" class=\"dataframe\">\n",
              "  <thead>\n",
              "    <tr style=\"text-align: right;\">\n",
              "      <th></th>\n",
              "      <th>Date</th>\n",
              "      <th>Open</th>\n",
              "      <th>High</th>\n",
              "      <th>Low</th>\n",
              "      <th>Close</th>\n",
              "      <th>Adj Close</th>\n",
              "      <th>Volume</th>\n",
              "    </tr>\n",
              "  </thead>\n",
              "  <tbody>\n",
              "    <tr>\n",
              "      <th>0</th>\n",
              "      <td>2021-09-01</td>\n",
              "      <td>2913.000000</td>\n",
              "      <td>2936.409912</td>\n",
              "      <td>2912.290039</td>\n",
              "      <td>2916.840088</td>\n",
              "      <td>2916.840088</td>\n",
              "      <td>791200</td>\n",
              "    </tr>\n",
              "    <tr>\n",
              "      <th>1</th>\n",
              "      <td>2021-09-02</td>\n",
              "      <td>2918.989990</td>\n",
              "      <td>2926.500000</td>\n",
              "      <td>2882.129883</td>\n",
              "      <td>2884.379883</td>\n",
              "      <td>2884.379883</td>\n",
              "      <td>1092200</td>\n",
              "    </tr>\n",
              "    <tr>\n",
              "      <th>2</th>\n",
              "      <td>2021-09-03</td>\n",
              "      <td>2882.919922</td>\n",
              "      <td>2907.540039</td>\n",
              "      <td>2870.100098</td>\n",
              "      <td>2895.500000</td>\n",
              "      <td>2895.500000</td>\n",
              "      <td>955200</td>\n",
              "    </tr>\n",
              "    <tr>\n",
              "      <th>3</th>\n",
              "      <td>2021-09-07</td>\n",
              "      <td>2894.989990</td>\n",
              "      <td>2916.479980</td>\n",
              "      <td>2890.820068</td>\n",
              "      <td>2910.379883</td>\n",
              "      <td>2910.379883</td>\n",
              "      <td>758500</td>\n",
              "    </tr>\n",
              "    <tr>\n",
              "      <th>4</th>\n",
              "      <td>2021-09-08</td>\n",
              "      <td>2907.870117</td>\n",
              "      <td>2911.020020</td>\n",
              "      <td>2884.000000</td>\n",
              "      <td>2897.669922</td>\n",
              "      <td>2897.669922</td>\n",
              "      <td>774300</td>\n",
              "    </tr>\n",
              "    <tr>\n",
              "      <th>5</th>\n",
              "      <td>2021-09-09</td>\n",
              "      <td>2897.669922</td>\n",
              "      <td>2913.389893</td>\n",
              "      <td>2888.679932</td>\n",
              "      <td>2898.270020</td>\n",
              "      <td>2898.270020</td>\n",
              "      <td>739900</td>\n",
              "    </tr>\n",
              "    <tr>\n",
              "      <th>6</th>\n",
              "      <td>2021-09-10</td>\n",
              "      <td>2908.870117</td>\n",
              "      <td>2920.379883</td>\n",
              "      <td>2834.830078</td>\n",
              "      <td>2838.419922</td>\n",
              "      <td>2838.419922</td>\n",
              "      <td>1644800</td>\n",
              "    </tr>\n",
              "    <tr>\n",
              "      <th>7</th>\n",
              "      <td>2021-09-13</td>\n",
              "      <td>2864.020020</td>\n",
              "      <td>2883.820068</td>\n",
              "      <td>2845.649902</td>\n",
              "      <td>2869.300049</td>\n",
              "      <td>2869.300049</td>\n",
              "      <td>1008800</td>\n",
              "    </tr>\n",
              "    <tr>\n",
              "      <th>8</th>\n",
              "      <td>2021-09-14</td>\n",
              "      <td>2883.219971</td>\n",
              "      <td>2894.550049</td>\n",
              "      <td>2858.110107</td>\n",
              "      <td>2868.120117</td>\n",
              "      <td>2868.120117</td>\n",
              "      <td>945800</td>\n",
              "    </tr>\n",
              "    <tr>\n",
              "      <th>9</th>\n",
              "      <td>2021-09-15</td>\n",
              "      <td>2875.179932</td>\n",
              "      <td>2911.629883</td>\n",
              "      <td>2845.120117</td>\n",
              "      <td>2904.120117</td>\n",
              "      <td>2904.120117</td>\n",
              "      <td>1032400</td>\n",
              "    </tr>\n",
              "    <tr>\n",
              "      <th>10</th>\n",
              "      <td>2021-09-16</td>\n",
              "      <td>2902.419922</td>\n",
              "      <td>2904.000000</td>\n",
              "      <td>2868.326904</td>\n",
              "      <td>2887.469971</td>\n",
              "      <td>2887.469971</td>\n",
              "      <td>1014600</td>\n",
              "    </tr>\n",
              "    <tr>\n",
              "      <th>11</th>\n",
              "      <td>2021-09-17</td>\n",
              "      <td>2875.969971</td>\n",
              "      <td>2884.989990</td>\n",
              "      <td>2821.229980</td>\n",
              "      <td>2829.270020</td>\n",
              "      <td>2829.270020</td>\n",
              "      <td>3002000</td>\n",
              "    </tr>\n",
              "    <tr>\n",
              "      <th>12</th>\n",
              "      <td>2021-09-20</td>\n",
              "      <td>2780.003906</td>\n",
              "      <td>2787.250000</td>\n",
              "      <td>2741.060059</td>\n",
              "      <td>2780.340088</td>\n",
              "      <td>2780.340088</td>\n",
              "      <td>1745900</td>\n",
              "    </tr>\n",
              "    <tr>\n",
              "      <th>13</th>\n",
              "      <td>2021-09-21</td>\n",
              "      <td>2802.340088</td>\n",
              "      <td>2816.231934</td>\n",
              "      <td>2778.110107</td>\n",
              "      <td>2792.929932</td>\n",
              "      <td>2792.929932</td>\n",
              "      <td>906500</td>\n",
              "    </tr>\n",
              "    <tr>\n",
              "      <th>14</th>\n",
              "      <td>2021-09-22</td>\n",
              "      <td>2801.010010</td>\n",
              "      <td>2831.669922</td>\n",
              "      <td>2789.435059</td>\n",
              "      <td>2818.770020</td>\n",
              "      <td>2818.770020</td>\n",
              "      <td>1103400</td>\n",
              "    </tr>\n",
              "    <tr>\n",
              "      <th>15</th>\n",
              "      <td>2021-09-23</td>\n",
              "      <td>2832.189941</td>\n",
              "      <td>2845.049072</td>\n",
              "      <td>2821.929932</td>\n",
              "      <td>2836.530029</td>\n",
              "      <td>2836.530029</td>\n",
              "      <td>863600</td>\n",
              "    </tr>\n",
              "    <tr>\n",
              "      <th>16</th>\n",
              "      <td>2021-09-24</td>\n",
              "      <td>2818.919922</td>\n",
              "      <td>2858.070068</td>\n",
              "      <td>2817.010010</td>\n",
              "      <td>2852.659912</td>\n",
              "      <td>2852.659912</td>\n",
              "      <td>747500</td>\n",
              "    </tr>\n",
              "    <tr>\n",
              "      <th>17</th>\n",
              "      <td>2021-09-27</td>\n",
              "      <td>2831.709961</td>\n",
              "      <td>2850.000000</td>\n",
              "      <td>2810.000000</td>\n",
              "      <td>2830.020020</td>\n",
              "      <td>2830.020020</td>\n",
              "      <td>942200</td>\n",
              "    </tr>\n",
              "    <tr>\n",
              "      <th>18</th>\n",
              "      <td>2021-09-28</td>\n",
              "      <td>2781.770020</td>\n",
              "      <td>2792.129883</td>\n",
              "      <td>2714.000000</td>\n",
              "      <td>2723.679932</td>\n",
              "      <td>2723.679932</td>\n",
              "      <td>2109500</td>\n",
              "    </tr>\n",
              "    <tr>\n",
              "      <th>19</th>\n",
              "      <td>2021-09-29</td>\n",
              "      <td>2742.194092</td>\n",
              "      <td>2747.969971</td>\n",
              "      <td>2685.000000</td>\n",
              "      <td>2690.419922</td>\n",
              "      <td>2690.419922</td>\n",
              "      <td>1316900</td>\n",
              "    </tr>\n",
              "  </tbody>\n",
              "</table>\n",
              "</div>\n",
              "      <button class=\"colab-df-convert\" onclick=\"convertToInteractive('df-c8e1e5d5-8bb5-4fa8-b64d-883fc75165a2')\"\n",
              "              title=\"Convert this dataframe to an interactive table.\"\n",
              "              style=\"display:none;\">\n",
              "        \n",
              "  <svg xmlns=\"http://www.w3.org/2000/svg\" height=\"24px\"viewBox=\"0 0 24 24\"\n",
              "       width=\"24px\">\n",
              "    <path d=\"M0 0h24v24H0V0z\" fill=\"none\"/>\n",
              "    <path d=\"M18.56 5.44l.94 2.06.94-2.06 2.06-.94-2.06-.94-.94-2.06-.94 2.06-2.06.94zm-11 1L8.5 8.5l.94-2.06 2.06-.94-2.06-.94L8.5 2.5l-.94 2.06-2.06.94zm10 10l.94 2.06.94-2.06 2.06-.94-2.06-.94-.94-2.06-.94 2.06-2.06.94z\"/><path d=\"M17.41 7.96l-1.37-1.37c-.4-.4-.92-.59-1.43-.59-.52 0-1.04.2-1.43.59L10.3 9.45l-7.72 7.72c-.78.78-.78 2.05 0 2.83L4 21.41c.39.39.9.59 1.41.59.51 0 1.02-.2 1.41-.59l7.78-7.78 2.81-2.81c.8-.78.8-2.07 0-2.86zM5.41 20L4 18.59l7.72-7.72 1.47 1.35L5.41 20z\"/>\n",
              "  </svg>\n",
              "      </button>\n",
              "      \n",
              "  <style>\n",
              "    .colab-df-container {\n",
              "      display:flex;\n",
              "      flex-wrap:wrap;\n",
              "      gap: 12px;\n",
              "    }\n",
              "\n",
              "    .colab-df-convert {\n",
              "      background-color: #E8F0FE;\n",
              "      border: none;\n",
              "      border-radius: 50%;\n",
              "      cursor: pointer;\n",
              "      display: none;\n",
              "      fill: #1967D2;\n",
              "      height: 32px;\n",
              "      padding: 0 0 0 0;\n",
              "      width: 32px;\n",
              "    }\n",
              "\n",
              "    .colab-df-convert:hover {\n",
              "      background-color: #E2EBFA;\n",
              "      box-shadow: 0px 1px 2px rgba(60, 64, 67, 0.3), 0px 1px 3px 1px rgba(60, 64, 67, 0.15);\n",
              "      fill: #174EA6;\n",
              "    }\n",
              "\n",
              "    [theme=dark] .colab-df-convert {\n",
              "      background-color: #3B4455;\n",
              "      fill: #D2E3FC;\n",
              "    }\n",
              "\n",
              "    [theme=dark] .colab-df-convert:hover {\n",
              "      background-color: #434B5C;\n",
              "      box-shadow: 0px 1px 3px 1px rgba(0, 0, 0, 0.15);\n",
              "      filter: drop-shadow(0px 1px 2px rgba(0, 0, 0, 0.3));\n",
              "      fill: #FFFFFF;\n",
              "    }\n",
              "  </style>\n",
              "\n",
              "      <script>\n",
              "        const buttonEl =\n",
              "          document.querySelector('#df-c8e1e5d5-8bb5-4fa8-b64d-883fc75165a2 button.colab-df-convert');\n",
              "        buttonEl.style.display =\n",
              "          google.colab.kernel.accessAllowed ? 'block' : 'none';\n",
              "\n",
              "        async function convertToInteractive(key) {\n",
              "          const element = document.querySelector('#df-c8e1e5d5-8bb5-4fa8-b64d-883fc75165a2');\n",
              "          const dataTable =\n",
              "            await google.colab.kernel.invokeFunction('convertToInteractive',\n",
              "                                                     [key], {});\n",
              "          if (!dataTable) return;\n",
              "\n",
              "          const docLinkHtml = 'Like what you see? Visit the ' +\n",
              "            '<a target=\"_blank\" href=https://colab.research.google.com/notebooks/data_table.ipynb>data table notebook</a>'\n",
              "            + ' to learn more about interactive tables.';\n",
              "          element.innerHTML = '';\n",
              "          dataTable['output_type'] = 'display_data';\n",
              "          await google.colab.output.renderOutput(dataTable, element);\n",
              "          const docLink = document.createElement('div');\n",
              "          docLink.innerHTML = docLinkHtml;\n",
              "          element.appendChild(docLink);\n",
              "        }\n",
              "      </script>\n",
              "    </div>\n",
              "  </div>\n",
              "  "
            ]
          },
          "metadata": {},
          "execution_count": 3
        }
      ]
    },
    {
      "cell_type": "markdown",
      "source": [
        "Upload file dari yahoo dari tanggal 1 september 2021 sampai 30 september 2021"
      ],
      "metadata": {
        "id": "2ANxpW7nfLXn"
      }
    },
    {
      "cell_type": "code",
      "source": [
        "actual_price = df.tail(1)\n",
        "actual_price"
      ],
      "metadata": {
        "colab": {
          "base_uri": "https://localhost:8080/",
          "height": 81
        },
        "id": "ECt4w07pfYJE",
        "outputId": "7e3a047f-e91c-4b69-b5ca-5f3d731c73d6"
      },
      "execution_count": 4,
      "outputs": [
        {
          "output_type": "execute_result",
          "data": {
            "text/plain": [
              "          Date         Open         High     Low        Close    Adj Close  \\\n",
              "19  2021-09-29  2742.194092  2747.969971  2685.0  2690.419922  2690.419922   \n",
              "\n",
              "     Volume  \n",
              "19  1316900  "
            ],
            "text/html": [
              "\n",
              "  <div id=\"df-a0dc5eb9-f627-441e-9d41-5b11d911ad48\">\n",
              "    <div class=\"colab-df-container\">\n",
              "      <div>\n",
              "<style scoped>\n",
              "    .dataframe tbody tr th:only-of-type {\n",
              "        vertical-align: middle;\n",
              "    }\n",
              "\n",
              "    .dataframe tbody tr th {\n",
              "        vertical-align: top;\n",
              "    }\n",
              "\n",
              "    .dataframe thead th {\n",
              "        text-align: right;\n",
              "    }\n",
              "</style>\n",
              "<table border=\"1\" class=\"dataframe\">\n",
              "  <thead>\n",
              "    <tr style=\"text-align: right;\">\n",
              "      <th></th>\n",
              "      <th>Date</th>\n",
              "      <th>Open</th>\n",
              "      <th>High</th>\n",
              "      <th>Low</th>\n",
              "      <th>Close</th>\n",
              "      <th>Adj Close</th>\n",
              "      <th>Volume</th>\n",
              "    </tr>\n",
              "  </thead>\n",
              "  <tbody>\n",
              "    <tr>\n",
              "      <th>19</th>\n",
              "      <td>2021-09-29</td>\n",
              "      <td>2742.194092</td>\n",
              "      <td>2747.969971</td>\n",
              "      <td>2685.0</td>\n",
              "      <td>2690.419922</td>\n",
              "      <td>2690.419922</td>\n",
              "      <td>1316900</td>\n",
              "    </tr>\n",
              "  </tbody>\n",
              "</table>\n",
              "</div>\n",
              "      <button class=\"colab-df-convert\" onclick=\"convertToInteractive('df-a0dc5eb9-f627-441e-9d41-5b11d911ad48')\"\n",
              "              title=\"Convert this dataframe to an interactive table.\"\n",
              "              style=\"display:none;\">\n",
              "        \n",
              "  <svg xmlns=\"http://www.w3.org/2000/svg\" height=\"24px\"viewBox=\"0 0 24 24\"\n",
              "       width=\"24px\">\n",
              "    <path d=\"M0 0h24v24H0V0z\" fill=\"none\"/>\n",
              "    <path d=\"M18.56 5.44l.94 2.06.94-2.06 2.06-.94-2.06-.94-.94-2.06-.94 2.06-2.06.94zm-11 1L8.5 8.5l.94-2.06 2.06-.94-2.06-.94L8.5 2.5l-.94 2.06-2.06.94zm10 10l.94 2.06.94-2.06 2.06-.94-2.06-.94-.94-2.06-.94 2.06-2.06.94z\"/><path d=\"M17.41 7.96l-1.37-1.37c-.4-.4-.92-.59-1.43-.59-.52 0-1.04.2-1.43.59L10.3 9.45l-7.72 7.72c-.78.78-.78 2.05 0 2.83L4 21.41c.39.39.9.59 1.41.59.51 0 1.02-.2 1.41-.59l7.78-7.78 2.81-2.81c.8-.78.8-2.07 0-2.86zM5.41 20L4 18.59l7.72-7.72 1.47 1.35L5.41 20z\"/>\n",
              "  </svg>\n",
              "      </button>\n",
              "      \n",
              "  <style>\n",
              "    .colab-df-container {\n",
              "      display:flex;\n",
              "      flex-wrap:wrap;\n",
              "      gap: 12px;\n",
              "    }\n",
              "\n",
              "    .colab-df-convert {\n",
              "      background-color: #E8F0FE;\n",
              "      border: none;\n",
              "      border-radius: 50%;\n",
              "      cursor: pointer;\n",
              "      display: none;\n",
              "      fill: #1967D2;\n",
              "      height: 32px;\n",
              "      padding: 0 0 0 0;\n",
              "      width: 32px;\n",
              "    }\n",
              "\n",
              "    .colab-df-convert:hover {\n",
              "      background-color: #E2EBFA;\n",
              "      box-shadow: 0px 1px 2px rgba(60, 64, 67, 0.3), 0px 1px 3px 1px rgba(60, 64, 67, 0.15);\n",
              "      fill: #174EA6;\n",
              "    }\n",
              "\n",
              "    [theme=dark] .colab-df-convert {\n",
              "      background-color: #3B4455;\n",
              "      fill: #D2E3FC;\n",
              "    }\n",
              "\n",
              "    [theme=dark] .colab-df-convert:hover {\n",
              "      background-color: #434B5C;\n",
              "      box-shadow: 0px 1px 3px 1px rgba(0, 0, 0, 0.15);\n",
              "      filter: drop-shadow(0px 1px 2px rgba(0, 0, 0, 0.3));\n",
              "      fill: #FFFFFF;\n",
              "    }\n",
              "  </style>\n",
              "\n",
              "      <script>\n",
              "        const buttonEl =\n",
              "          document.querySelector('#df-a0dc5eb9-f627-441e-9d41-5b11d911ad48 button.colab-df-convert');\n",
              "        buttonEl.style.display =\n",
              "          google.colab.kernel.accessAllowed ? 'block' : 'none';\n",
              "\n",
              "        async function convertToInteractive(key) {\n",
              "          const element = document.querySelector('#df-a0dc5eb9-f627-441e-9d41-5b11d911ad48');\n",
              "          const dataTable =\n",
              "            await google.colab.kernel.invokeFunction('convertToInteractive',\n",
              "                                                     [key], {});\n",
              "          if (!dataTable) return;\n",
              "\n",
              "          const docLinkHtml = 'Like what you see? Visit the ' +\n",
              "            '<a target=\"_blank\" href=https://colab.research.google.com/notebooks/data_table.ipynb>data table notebook</a>'\n",
              "            + ' to learn more about interactive tables.';\n",
              "          element.innerHTML = '';\n",
              "          dataTable['output_type'] = 'display_data';\n",
              "          await google.colab.output.renderOutput(dataTable, element);\n",
              "          const docLink = document.createElement('div');\n",
              "          docLink.innerHTML = docLinkHtml;\n",
              "          element.appendChild(docLink);\n",
              "        }\n",
              "      </script>\n",
              "    </div>\n",
              "  </div>\n",
              "  "
            ]
          },
          "metadata": {},
          "execution_count": 4
        }
      ]
    },
    {
      "cell_type": "markdown",
      "source": [
        "Dapatkan dan cetak baris data terakhir"
      ],
      "metadata": {
        "id": "FtTMK0kDf3XS"
      }
    },
    {
      "cell_type": "code",
      "source": [
        "df = df.head(len(df)-1)\n",
        "df"
      ],
      "metadata": {
        "colab": {
          "base_uri": "https://localhost:8080/",
          "height": 645
        },
        "id": "xX1wewyjUfMo",
        "outputId": "56688556-18b6-4151-c0fd-338ebe7917d8"
      },
      "execution_count": 5,
      "outputs": [
        {
          "output_type": "execute_result",
          "data": {
            "text/plain": [
              "          Date         Open         High          Low        Close  \\\n",
              "0   2021-09-01  2913.000000  2936.409912  2912.290039  2916.840088   \n",
              "1   2021-09-02  2918.989990  2926.500000  2882.129883  2884.379883   \n",
              "2   2021-09-03  2882.919922  2907.540039  2870.100098  2895.500000   \n",
              "3   2021-09-07  2894.989990  2916.479980  2890.820068  2910.379883   \n",
              "4   2021-09-08  2907.870117  2911.020020  2884.000000  2897.669922   \n",
              "5   2021-09-09  2897.669922  2913.389893  2888.679932  2898.270020   \n",
              "6   2021-09-10  2908.870117  2920.379883  2834.830078  2838.419922   \n",
              "7   2021-09-13  2864.020020  2883.820068  2845.649902  2869.300049   \n",
              "8   2021-09-14  2883.219971  2894.550049  2858.110107  2868.120117   \n",
              "9   2021-09-15  2875.179932  2911.629883  2845.120117  2904.120117   \n",
              "10  2021-09-16  2902.419922  2904.000000  2868.326904  2887.469971   \n",
              "11  2021-09-17  2875.969971  2884.989990  2821.229980  2829.270020   \n",
              "12  2021-09-20  2780.003906  2787.250000  2741.060059  2780.340088   \n",
              "13  2021-09-21  2802.340088  2816.231934  2778.110107  2792.929932   \n",
              "14  2021-09-22  2801.010010  2831.669922  2789.435059  2818.770020   \n",
              "15  2021-09-23  2832.189941  2845.049072  2821.929932  2836.530029   \n",
              "16  2021-09-24  2818.919922  2858.070068  2817.010010  2852.659912   \n",
              "17  2021-09-27  2831.709961  2850.000000  2810.000000  2830.020020   \n",
              "18  2021-09-28  2781.770020  2792.129883  2714.000000  2723.679932   \n",
              "\n",
              "      Adj Close   Volume  \n",
              "0   2916.840088   791200  \n",
              "1   2884.379883  1092200  \n",
              "2   2895.500000   955200  \n",
              "3   2910.379883   758500  \n",
              "4   2897.669922   774300  \n",
              "5   2898.270020   739900  \n",
              "6   2838.419922  1644800  \n",
              "7   2869.300049  1008800  \n",
              "8   2868.120117   945800  \n",
              "9   2904.120117  1032400  \n",
              "10  2887.469971  1014600  \n",
              "11  2829.270020  3002000  \n",
              "12  2780.340088  1745900  \n",
              "13  2792.929932   906500  \n",
              "14  2818.770020  1103400  \n",
              "15  2836.530029   863600  \n",
              "16  2852.659912   747500  \n",
              "17  2830.020020   942200  \n",
              "18  2723.679932  2109500  "
            ],
            "text/html": [
              "\n",
              "  <div id=\"df-70a618e0-2e25-4607-9ebd-17c93180ac19\">\n",
              "    <div class=\"colab-df-container\">\n",
              "      <div>\n",
              "<style scoped>\n",
              "    .dataframe tbody tr th:only-of-type {\n",
              "        vertical-align: middle;\n",
              "    }\n",
              "\n",
              "    .dataframe tbody tr th {\n",
              "        vertical-align: top;\n",
              "    }\n",
              "\n",
              "    .dataframe thead th {\n",
              "        text-align: right;\n",
              "    }\n",
              "</style>\n",
              "<table border=\"1\" class=\"dataframe\">\n",
              "  <thead>\n",
              "    <tr style=\"text-align: right;\">\n",
              "      <th></th>\n",
              "      <th>Date</th>\n",
              "      <th>Open</th>\n",
              "      <th>High</th>\n",
              "      <th>Low</th>\n",
              "      <th>Close</th>\n",
              "      <th>Adj Close</th>\n",
              "      <th>Volume</th>\n",
              "    </tr>\n",
              "  </thead>\n",
              "  <tbody>\n",
              "    <tr>\n",
              "      <th>0</th>\n",
              "      <td>2021-09-01</td>\n",
              "      <td>2913.000000</td>\n",
              "      <td>2936.409912</td>\n",
              "      <td>2912.290039</td>\n",
              "      <td>2916.840088</td>\n",
              "      <td>2916.840088</td>\n",
              "      <td>791200</td>\n",
              "    </tr>\n",
              "    <tr>\n",
              "      <th>1</th>\n",
              "      <td>2021-09-02</td>\n",
              "      <td>2918.989990</td>\n",
              "      <td>2926.500000</td>\n",
              "      <td>2882.129883</td>\n",
              "      <td>2884.379883</td>\n",
              "      <td>2884.379883</td>\n",
              "      <td>1092200</td>\n",
              "    </tr>\n",
              "    <tr>\n",
              "      <th>2</th>\n",
              "      <td>2021-09-03</td>\n",
              "      <td>2882.919922</td>\n",
              "      <td>2907.540039</td>\n",
              "      <td>2870.100098</td>\n",
              "      <td>2895.500000</td>\n",
              "      <td>2895.500000</td>\n",
              "      <td>955200</td>\n",
              "    </tr>\n",
              "    <tr>\n",
              "      <th>3</th>\n",
              "      <td>2021-09-07</td>\n",
              "      <td>2894.989990</td>\n",
              "      <td>2916.479980</td>\n",
              "      <td>2890.820068</td>\n",
              "      <td>2910.379883</td>\n",
              "      <td>2910.379883</td>\n",
              "      <td>758500</td>\n",
              "    </tr>\n",
              "    <tr>\n",
              "      <th>4</th>\n",
              "      <td>2021-09-08</td>\n",
              "      <td>2907.870117</td>\n",
              "      <td>2911.020020</td>\n",
              "      <td>2884.000000</td>\n",
              "      <td>2897.669922</td>\n",
              "      <td>2897.669922</td>\n",
              "      <td>774300</td>\n",
              "    </tr>\n",
              "    <tr>\n",
              "      <th>5</th>\n",
              "      <td>2021-09-09</td>\n",
              "      <td>2897.669922</td>\n",
              "      <td>2913.389893</td>\n",
              "      <td>2888.679932</td>\n",
              "      <td>2898.270020</td>\n",
              "      <td>2898.270020</td>\n",
              "      <td>739900</td>\n",
              "    </tr>\n",
              "    <tr>\n",
              "      <th>6</th>\n",
              "      <td>2021-09-10</td>\n",
              "      <td>2908.870117</td>\n",
              "      <td>2920.379883</td>\n",
              "      <td>2834.830078</td>\n",
              "      <td>2838.419922</td>\n",
              "      <td>2838.419922</td>\n",
              "      <td>1644800</td>\n",
              "    </tr>\n",
              "    <tr>\n",
              "      <th>7</th>\n",
              "      <td>2021-09-13</td>\n",
              "      <td>2864.020020</td>\n",
              "      <td>2883.820068</td>\n",
              "      <td>2845.649902</td>\n",
              "      <td>2869.300049</td>\n",
              "      <td>2869.300049</td>\n",
              "      <td>1008800</td>\n",
              "    </tr>\n",
              "    <tr>\n",
              "      <th>8</th>\n",
              "      <td>2021-09-14</td>\n",
              "      <td>2883.219971</td>\n",
              "      <td>2894.550049</td>\n",
              "      <td>2858.110107</td>\n",
              "      <td>2868.120117</td>\n",
              "      <td>2868.120117</td>\n",
              "      <td>945800</td>\n",
              "    </tr>\n",
              "    <tr>\n",
              "      <th>9</th>\n",
              "      <td>2021-09-15</td>\n",
              "      <td>2875.179932</td>\n",
              "      <td>2911.629883</td>\n",
              "      <td>2845.120117</td>\n",
              "      <td>2904.120117</td>\n",
              "      <td>2904.120117</td>\n",
              "      <td>1032400</td>\n",
              "    </tr>\n",
              "    <tr>\n",
              "      <th>10</th>\n",
              "      <td>2021-09-16</td>\n",
              "      <td>2902.419922</td>\n",
              "      <td>2904.000000</td>\n",
              "      <td>2868.326904</td>\n",
              "      <td>2887.469971</td>\n",
              "      <td>2887.469971</td>\n",
              "      <td>1014600</td>\n",
              "    </tr>\n",
              "    <tr>\n",
              "      <th>11</th>\n",
              "      <td>2021-09-17</td>\n",
              "      <td>2875.969971</td>\n",
              "      <td>2884.989990</td>\n",
              "      <td>2821.229980</td>\n",
              "      <td>2829.270020</td>\n",
              "      <td>2829.270020</td>\n",
              "      <td>3002000</td>\n",
              "    </tr>\n",
              "    <tr>\n",
              "      <th>12</th>\n",
              "      <td>2021-09-20</td>\n",
              "      <td>2780.003906</td>\n",
              "      <td>2787.250000</td>\n",
              "      <td>2741.060059</td>\n",
              "      <td>2780.340088</td>\n",
              "      <td>2780.340088</td>\n",
              "      <td>1745900</td>\n",
              "    </tr>\n",
              "    <tr>\n",
              "      <th>13</th>\n",
              "      <td>2021-09-21</td>\n",
              "      <td>2802.340088</td>\n",
              "      <td>2816.231934</td>\n",
              "      <td>2778.110107</td>\n",
              "      <td>2792.929932</td>\n",
              "      <td>2792.929932</td>\n",
              "      <td>906500</td>\n",
              "    </tr>\n",
              "    <tr>\n",
              "      <th>14</th>\n",
              "      <td>2021-09-22</td>\n",
              "      <td>2801.010010</td>\n",
              "      <td>2831.669922</td>\n",
              "      <td>2789.435059</td>\n",
              "      <td>2818.770020</td>\n",
              "      <td>2818.770020</td>\n",
              "      <td>1103400</td>\n",
              "    </tr>\n",
              "    <tr>\n",
              "      <th>15</th>\n",
              "      <td>2021-09-23</td>\n",
              "      <td>2832.189941</td>\n",
              "      <td>2845.049072</td>\n",
              "      <td>2821.929932</td>\n",
              "      <td>2836.530029</td>\n",
              "      <td>2836.530029</td>\n",
              "      <td>863600</td>\n",
              "    </tr>\n",
              "    <tr>\n",
              "      <th>16</th>\n",
              "      <td>2021-09-24</td>\n",
              "      <td>2818.919922</td>\n",
              "      <td>2858.070068</td>\n",
              "      <td>2817.010010</td>\n",
              "      <td>2852.659912</td>\n",
              "      <td>2852.659912</td>\n",
              "      <td>747500</td>\n",
              "    </tr>\n",
              "    <tr>\n",
              "      <th>17</th>\n",
              "      <td>2021-09-27</td>\n",
              "      <td>2831.709961</td>\n",
              "      <td>2850.000000</td>\n",
              "      <td>2810.000000</td>\n",
              "      <td>2830.020020</td>\n",
              "      <td>2830.020020</td>\n",
              "      <td>942200</td>\n",
              "    </tr>\n",
              "    <tr>\n",
              "      <th>18</th>\n",
              "      <td>2021-09-28</td>\n",
              "      <td>2781.770020</td>\n",
              "      <td>2792.129883</td>\n",
              "      <td>2714.000000</td>\n",
              "      <td>2723.679932</td>\n",
              "      <td>2723.679932</td>\n",
              "      <td>2109500</td>\n",
              "    </tr>\n",
              "  </tbody>\n",
              "</table>\n",
              "</div>\n",
              "      <button class=\"colab-df-convert\" onclick=\"convertToInteractive('df-70a618e0-2e25-4607-9ebd-17c93180ac19')\"\n",
              "              title=\"Convert this dataframe to an interactive table.\"\n",
              "              style=\"display:none;\">\n",
              "        \n",
              "  <svg xmlns=\"http://www.w3.org/2000/svg\" height=\"24px\"viewBox=\"0 0 24 24\"\n",
              "       width=\"24px\">\n",
              "    <path d=\"M0 0h24v24H0V0z\" fill=\"none\"/>\n",
              "    <path d=\"M18.56 5.44l.94 2.06.94-2.06 2.06-.94-2.06-.94-.94-2.06-.94 2.06-2.06.94zm-11 1L8.5 8.5l.94-2.06 2.06-.94-2.06-.94L8.5 2.5l-.94 2.06-2.06.94zm10 10l.94 2.06.94-2.06 2.06-.94-2.06-.94-.94-2.06-.94 2.06-2.06.94z\"/><path d=\"M17.41 7.96l-1.37-1.37c-.4-.4-.92-.59-1.43-.59-.52 0-1.04.2-1.43.59L10.3 9.45l-7.72 7.72c-.78.78-.78 2.05 0 2.83L4 21.41c.39.39.9.59 1.41.59.51 0 1.02-.2 1.41-.59l7.78-7.78 2.81-2.81c.8-.78.8-2.07 0-2.86zM5.41 20L4 18.59l7.72-7.72 1.47 1.35L5.41 20z\"/>\n",
              "  </svg>\n",
              "      </button>\n",
              "      \n",
              "  <style>\n",
              "    .colab-df-container {\n",
              "      display:flex;\n",
              "      flex-wrap:wrap;\n",
              "      gap: 12px;\n",
              "    }\n",
              "\n",
              "    .colab-df-convert {\n",
              "      background-color: #E8F0FE;\n",
              "      border: none;\n",
              "      border-radius: 50%;\n",
              "      cursor: pointer;\n",
              "      display: none;\n",
              "      fill: #1967D2;\n",
              "      height: 32px;\n",
              "      padding: 0 0 0 0;\n",
              "      width: 32px;\n",
              "    }\n",
              "\n",
              "    .colab-df-convert:hover {\n",
              "      background-color: #E2EBFA;\n",
              "      box-shadow: 0px 1px 2px rgba(60, 64, 67, 0.3), 0px 1px 3px 1px rgba(60, 64, 67, 0.15);\n",
              "      fill: #174EA6;\n",
              "    }\n",
              "\n",
              "    [theme=dark] .colab-df-convert {\n",
              "      background-color: #3B4455;\n",
              "      fill: #D2E3FC;\n",
              "    }\n",
              "\n",
              "    [theme=dark] .colab-df-convert:hover {\n",
              "      background-color: #434B5C;\n",
              "      box-shadow: 0px 1px 3px 1px rgba(0, 0, 0, 0.15);\n",
              "      filter: drop-shadow(0px 1px 2px rgba(0, 0, 0, 0.3));\n",
              "      fill: #FFFFFF;\n",
              "    }\n",
              "  </style>\n",
              "\n",
              "      <script>\n",
              "        const buttonEl =\n",
              "          document.querySelector('#df-70a618e0-2e25-4607-9ebd-17c93180ac19 button.colab-df-convert');\n",
              "        buttonEl.style.display =\n",
              "          google.colab.kernel.accessAllowed ? 'block' : 'none';\n",
              "\n",
              "        async function convertToInteractive(key) {\n",
              "          const element = document.querySelector('#df-70a618e0-2e25-4607-9ebd-17c93180ac19');\n",
              "          const dataTable =\n",
              "            await google.colab.kernel.invokeFunction('convertToInteractive',\n",
              "                                                     [key], {});\n",
              "          if (!dataTable) return;\n",
              "\n",
              "          const docLinkHtml = 'Like what you see? Visit the ' +\n",
              "            '<a target=\"_blank\" href=https://colab.research.google.com/notebooks/data_table.ipynb>data table notebook</a>'\n",
              "            + ' to learn more about interactive tables.';\n",
              "          element.innerHTML = '';\n",
              "          dataTable['output_type'] = 'display_data';\n",
              "          await google.colab.output.renderOutput(dataTable, element);\n",
              "          const docLink = document.createElement('div');\n",
              "          docLink.innerHTML = docLinkHtml;\n",
              "          element.appendChild(docLink);\n",
              "        }\n",
              "      </script>\n",
              "    </div>\n",
              "  </div>\n",
              "  "
            ]
          },
          "metadata": {},
          "execution_count": 5
        }
      ]
    },
    {
      "cell_type": "markdown",
      "source": [
        "Siapkan data untuk pelatihan. Buat ulang bingkai data dengan mendapatkan semua data kecuali baris terakhir yang akan saya gunakan untuk menguji model nanti, dan simpan data baru dengan baris terakhir hilang kembali ke 'df'."
      ],
      "metadata": {
        "id": "BgddiRucf7qw"
      }
    },
    {
      "cell_type": "code",
      "source": [
        "#Create the lists / X and y data set\n",
        "days = list()\n",
        "adj_close_prices = list()"
      ],
      "metadata": {
        "id": "BvdM1KA0U4s_"
      },
      "execution_count": 6,
      "outputs": []
    },
    {
      "cell_type": "markdown",
      "source": [
        "Buat variabel yang akan digunakan sebagai kumpulan data independen dan dependen dengan menyetelnya sama dengan daftar kosong."
      ],
      "metadata": {
        "id": "UBhNd1GZe9P0"
      }
    },
    {
      "cell_type": "code",
      "source": [
        "df_days = df.loc[:, 'Date']\n",
        "df_adj_close = df.loc[:, 'Adj Close']"
      ],
      "metadata": {
        "id": "hI6XIL7pVGgg"
      },
      "execution_count": 7,
      "outputs": []
    },
    {
      "cell_type": "markdown",
      "source": [
        "Dapatkan semua baris dari kolom Tanggal simpan ke dalam variabel yang disebut 'df_days' dan dapatkan semua baris dari kolom Harga Tutup Penyesuaian dan simpan datanya ke dalam variabel."
      ],
      "metadata": {
        "id": "AeDNPizKgKPj"
      }
    },
    {
      "cell_type": "code",
      "source": [
        "#Create the independent data set\n",
        "for day in df_days:\n",
        "   days.append([int(str((day.split('-')[2]).replace('0','')))])\n",
        "\n",
        "#Create the dependent data set\n",
        "for adj_close_price in df_adj_close:\n",
        "   adj_close_prices.append( float(adj_close_price) )"
      ],
      "metadata": {
        "id": "x-F5F3QOZiqU"
      },
      "execution_count": 8,
      "outputs": []
    },
    {
      "cell_type": "markdown",
      "source": [
        "Buat kumpulan data independen 'X' dan simpan data dalam variabel 'hari'.\n",
        "Buat kumpulan data dependen 'y' dan simpan data dalam variabel 'adj_close_prices'. Keduanya dapat dilakukan dengan menambahkan data ke masing-masing daftar."
      ],
      "metadata": {
        "id": "X6-zrPv3ggEa"
      }
    },
    {
      "cell_type": "code",
      "source": [
        "print(days)"
      ],
      "metadata": {
        "colab": {
          "base_uri": "https://localhost:8080/"
        },
        "id": "JTZcLNYIZlXl",
        "outputId": "cb6e0ab9-e4f2-48f6-8031-3e7f151e8b8a"
      },
      "execution_count": 9,
      "outputs": [
        {
          "output_type": "stream",
          "name": "stdout",
          "text": [
            "[[1], [2], [3], [7], [8], [9], [1], [13], [14], [15], [16], [17], [2], [21], [22], [23], [24], [27], [28]]\n"
          ]
        }
      ]
    },
    {
      "cell_type": "markdown",
      "source": [
        "Lihat dan lihat hari apa yang dicatat dalam kumpulan data."
      ],
      "metadata": {
        "id": "C3f1ahuJgnTo"
      }
    },
    {
      "cell_type": "code",
      "source": [
        "#Create and train an SVR model using a linear kernel\n",
        "lin_svr = SVR(kernel='linear', C=1000.0)\n",
        "lin_svr.fit(days,adj_close_prices)#Create and train an SVR model using a polynomial kernel\n",
        "poly_svr = SVR(kernel='poly', C=1000.0, degree=2)\n",
        "poly_svr.fit(days, adj_close_prices)#Create and train an SVR model using a RBF kernel\n",
        "rbf_svr = SVR(kernel='rbf', C=1000.0, gamma=0.15)\n",
        "rbf_svr.fit(days, adj_close_prices)"
      ],
      "metadata": {
        "colab": {
          "base_uri": "https://localhost:8080/"
        },
        "id": "_bpN0RM4Zpyo",
        "outputId": "c8efbff2-7b38-4027-8a9f-9160c34d5745"
      },
      "execution_count": 10,
      "outputs": [
        {
          "output_type": "execute_result",
          "data": {
            "text/plain": [
              "SVR(C=1000.0, gamma=0.15)"
            ]
          },
          "metadata": {},
          "execution_count": 10
        }
      ]
    },
    {
      "cell_type": "markdown",
      "source": [
        "Lihat dan lihat hari apa yang dicatat dalam kumpulan data."
      ],
      "metadata": {
        "id": "h067J0TSgoTd"
      }
    },
    {
      "cell_type": "code",
      "source": [
        "#Plot the models on a graph to see which has the best fit\n",
        "plt.figure(figsize=(16,8))\n",
        "plt.scatter(days, adj_close_prices, color = 'black', label='Original Data')\n",
        "plt.plot(days, rbf_svr.predict(days), color = 'green', label='RBF Model')\n",
        "plt.plot(days, poly_svr.predict(days), color = 'orange', label='Polynomial Model')\n",
        "plt.plot(days, lin_svr.predict(days), color = 'purple', label='Linear Model')\n",
        "plt.xlabel('Days')\n",
        "plt.ylabel('Adj Close Price')\n",
        "plt.title('Support Vector Regression')\n",
        "plt.legend()\n",
        "plt.show()"
      ],
      "metadata": {
        "colab": {
          "base_uri": "https://localhost:8080/",
          "height": 508
        },
        "id": "dFp2h6tYZuWH",
        "outputId": "12da5bc7-f70f-4d73-fc3a-81bd5a17db6c"
      },
      "execution_count": 11,
      "outputs": [
        {
          "output_type": "display_data",
          "data": {
            "text/plain": [
              "<Figure size 1152x576 with 1 Axes>"
            ],
            "image/png": "[encoded data removed]"
          },
          "metadata": {}
        }
      ]
    },
    {
      "cell_type": "markdown",
      "source": [
        "terakhir tapi tidak kalah penting nya saya akan memplot model pada grafik untuk melihat mana yang paling cocok dan mengembalikan prediksi hari itu."
      ],
      "metadata": {
        "id": "m_SZXMkRgxbf"
      }
    },
    {
      "cell_type": "code",
      "source": [
        "day = [[29]]\n",
        "print('The RBF SVR predicted:', rbf_svr.predict(day))\n",
        "print('The Linear SVR predicted:', lin_svr.predict(day))\n",
        "print('The Polynomial SVR predicted:', poly_svr.predict(day))"
      ],
      "metadata": {
        "colab": {
          "base_uri": "https://localhost:8080/"
        },
        "id": "Yii_NNsyZ2qz",
        "outputId": "af23c9d4-cfe8-4059-b6d6-fb05260b18cb"
      },
      "execution_count": 12,
      "outputs": [
        {
          "output_type": "stream",
          "name": "stdout",
          "text": [
            "The RBF SVR predicted: [2665.11951952]\n",
            "The Linear SVR predicted: [2824.30858729]\n",
            "The Polynomial SVR predicted: [2801.05402425]\n"
          ]
        }
      ]
    },
    {
      "cell_type": "markdown",
      "source": [
        "memprediksi harga memberi model nilai atau hari 29"
      ],
      "metadata": {
        "id": "ynYd7FjRhO-y"
      }
    },
    {
      "cell_type": "code",
      "source": [
        "from datetime import datetime\n",
        "tgl = '2021-09-03'\n",
        "print(str(datetime.strptime(tgl, '%Y-%m-%d').strftime('%Y-%-#m-%-#d')).split('-')[2] ,end='\\n')\n",
        "\n",
        "#t = datetime(2012, 2, 23, 0, 0)\n",
        "#t.strftime('%-#m/%d/%Y')\n",
        "tiga = '03'\n",
        "print(int(tiga))"
      ],
      "metadata": {
        "colab": {
          "base_uri": "https://localhost:8080/"
        },
        "id": "rJFV_uVFaCkQ",
        "outputId": "2e9f4fe4-e06b-4b94-f41b-07a50c79d7ff"
      },
      "execution_count": 13,
      "outputs": [
        {
          "output_type": "stream",
          "name": "stdout",
          "text": [
            "3\n",
            "3\n"
          ]
        }
      ]
    },
    {
      "cell_type": "code",
      "source": [
        "df = pd.DataFrame([[1, 2], [4, 5], [7, 8]],\n",
        "     index=['cobra', 'viper', 'sidewinder'],\n",
        "     columns=['max_speed', 'shield'])\n",
        "df\n",
        "print(df.loc['cobra'])"
      ],
      "metadata": {
        "colab": {
          "base_uri": "https://localhost:8080/"
        },
        "id": "hI6FlyWAaS4g",
        "outputId": "71a87f84-376a-45e4-854b-e0eacb09d752"
      },
      "execution_count": 14,
      "outputs": [
        {
          "output_type": "stream",
          "name": "stdout",
          "text": [
            "max_speed    1\n",
            "shield       2\n",
            "Name: cobra, dtype: int64\n"
          ]
        }
      ]
    },
    {
      "cell_type": "markdown",
      "source": [
        "Model yang paling baik untuk menentukan prediksi pada tanggal 29 september 2021 adalah Linier"
      ],
      "metadata": {
        "id": "3muMS5zohSGO"
      }
    }
  ]
}